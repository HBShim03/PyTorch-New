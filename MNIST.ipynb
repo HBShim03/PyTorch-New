{
  "nbformat": 4,
  "nbformat_minor": 0,
  "metadata": {
    "colab": {
      "provenance": [],
      "gpuType": "T4",
      "authorship_tag": "ABX9TyMoMJ+2wq400T3l72HmhsZP"
    },
    "kernelspec": {
      "name": "python3",
      "display_name": "Python 3"
    },
    "language_info": {
      "name": "python"
    },
    "accelerator": "GPU"
  },
  "cells": [
    {
      "cell_type": "markdown",
      "source": [
        "# MNIST letter recognition\n",
        "\n",
        "## About the model `NumberClassifier`\n",
        "\n",
        "Convolutional Neural Network (CNN) is used to classify images. Specifically,  TinyVGG architecture is used since the input size of the image is quite small (32x32.\n",
        "\n",
        "TinyVGG's single block contains\n",
        "* `Conv2d`\n",
        "* `ReLU`\n",
        "* `Conv2d`\n",
        "* `ReLU`\n",
        "* `MaxPool2d`\n",
        "\n",
        "The kernel size is set to 2, stride and padding are set to 1 for both convolution and pooling layers.\n",
        "\n",
        "A classifier layer conatins\n",
        "* `Flatten`\n",
        "* `Linear`\n",
        "\n",
        "Combining 2 blocks and a classifier sequentially completes a forward pass.\n",
        "\n",
        "## Model Training and Testing\n",
        "\n",
        "60000 training images are separated into 1875 batches with 32 images, and 10000 test images independent from training dataset is used for model evaluation.\n",
        "\n",
        "`CrossEntropyLoss()` loss function is used for calculating the loss, and `SGD` optimizer is used to train the model. Since the model returns logits for multiclass classification problem, they are converted into a prediction probability list using `softmax` activation function. Then, taking `.argmax()` method returns the index of the greatest number in maximum probability list, which directly corresponds to the prediction.\n",
        "\n",
        "## Model Performance\n",
        "\n",
        "The model is trained using a T4 GPU (Tesla T4) with 15360Mib memory and 70W power cap is used along with CUDA 12.2.\n",
        "\n",
        "Training for 7 epochs takes about 77 seconds (11 seconds per epoch) on average and evaluation metrics gives about 96%-97% accuracy with learning rate 0.05 in `SGD` optimizer."
      ],
      "metadata": {
        "id": "Qqmrvf5dwLMa"
      }
    },
    {
      "cell_type": "code",
      "source": [
        "!nvidia-smi"
      ],
      "metadata": {
        "colab": {
          "base_uri": "https://localhost:8080/",
          "height": 0
        },
        "id": "i0ddpVmoxkC1",
        "outputId": "8e5bc814-bd25-40c3-9489-024b8a5f8458"
      },
      "execution_count": 29,
      "outputs": [
        {
          "output_type": "stream",
          "name": "stdout",
          "text": [
            "Sat Jan 20 05:16:35 2024       \n",
            "+---------------------------------------------------------------------------------------+\n",
            "| NVIDIA-SMI 535.104.05             Driver Version: 535.104.05   CUDA Version: 12.2     |\n",
            "|-----------------------------------------+----------------------+----------------------+\n",
            "| GPU  Name                 Persistence-M | Bus-Id        Disp.A | Volatile Uncorr. ECC |\n",
            "| Fan  Temp   Perf          Pwr:Usage/Cap |         Memory-Usage | GPU-Util  Compute M. |\n",
            "|                                         |                      |               MIG M. |\n",
            "|=========================================+======================+======================|\n",
            "|   0  Tesla T4                       Off | 00000000:00:04.0 Off |                    0 |\n",
            "| N/A   77C    P0              34W /  70W |    207MiB / 15360MiB |      0%      Default |\n",
            "|                                         |                      |                  N/A |\n",
            "+-----------------------------------------+----------------------+----------------------+\n",
            "                                                                                         \n",
            "+---------------------------------------------------------------------------------------+\n",
            "| Processes:                                                                            |\n",
            "|  GPU   GI   CI        PID   Type   Process name                            GPU Memory |\n",
            "|        ID   ID                                                             Usage      |\n",
            "|=======================================================================================|\n",
            "+---------------------------------------------------------------------------------------+\n"
          ]
        }
      ]
    },
    {
      "cell_type": "code",
      "execution_count": 30,
      "metadata": {
        "colab": {
          "base_uri": "https://localhost:8080/",
          "height": 2146
        },
        "id": "9Pfj_eQfqc4D",
        "outputId": "0acdf83c-2fe9-4c9e-dd03-d856854d2073"
      },
      "outputs": [
        {
          "output_type": "stream",
          "name": "stdout",
          "text": [
            "Testing model before training...\n"
          ]
        },
        {
          "output_type": "stream",
          "name": "stderr",
          "text": [
            "100%|██████████| 10000/10000 [00:06<00:00, 1456.56it/s]\n"
          ]
        },
        {
          "output_type": "stream",
          "name": "stdout",
          "text": [
            "\n",
            "ACCURACY: 10.10%\n",
            "\n",
            "-------\n",
            "EPOCH 0\n",
            "-------\n",
            "Training using 1875 image batches...\n"
          ]
        },
        {
          "output_type": "stream",
          "name": "stderr",
          "text": [
            "100%|██████████| 1875/1875 [00:11<00:00, 168.83it/s]\n"
          ]
        },
        {
          "output_type": "stream",
          "name": "stdout",
          "text": [
            "Training loss: 2.2998545169830322\n",
            "Testing 10000 images...\n"
          ]
        },
        {
          "output_type": "stream",
          "name": "stderr",
          "text": [
            "100%|██████████| 10000/10000 [00:07<00:00, 1307.62it/s]\n"
          ]
        },
        {
          "output_type": "stream",
          "name": "stdout",
          "text": [
            "\n",
            "ACCURACY: 11.40%\n",
            "\n",
            "-------\n",
            "EPOCH 1\n",
            "-------\n",
            "Training using 1875 image batches...\n"
          ]
        },
        {
          "output_type": "stream",
          "name": "stderr",
          "text": [
            "100%|██████████| 1875/1875 [00:11<00:00, 157.82it/s]\n"
          ]
        },
        {
          "output_type": "stream",
          "name": "stdout",
          "text": [
            "Training loss: 1.1881732940673828\n",
            "Testing 10000 images...\n"
          ]
        },
        {
          "output_type": "stream",
          "name": "stderr",
          "text": [
            "100%|██████████| 10000/10000 [00:06<00:00, 1442.06it/s]\n"
          ]
        },
        {
          "output_type": "stream",
          "name": "stdout",
          "text": [
            "\n",
            "ACCURACY: 88.09%\n",
            "\n",
            "-------\n",
            "EPOCH 2\n",
            "-------\n",
            "Training using 1875 image batches...\n"
          ]
        },
        {
          "output_type": "stream",
          "name": "stderr",
          "text": [
            "100%|██████████| 1875/1875 [00:11<00:00, 168.90it/s]\n"
          ]
        },
        {
          "output_type": "stream",
          "name": "stdout",
          "text": [
            "Training loss: 0.38304364681243896\n",
            "Testing 10000 images...\n"
          ]
        },
        {
          "output_type": "stream",
          "name": "stderr",
          "text": [
            "100%|██████████| 10000/10000 [00:07<00:00, 1364.83it/s]\n"
          ]
        },
        {
          "output_type": "stream",
          "name": "stdout",
          "text": [
            "\n",
            "ACCURACY: 90.36%\n",
            "\n",
            "-------\n",
            "EPOCH 3\n",
            "-------\n",
            "Training using 1875 image batches...\n"
          ]
        },
        {
          "output_type": "stream",
          "name": "stderr",
          "text": [
            "100%|██████████| 1875/1875 [00:11<00:00, 164.59it/s]\n"
          ]
        },
        {
          "output_type": "stream",
          "name": "stdout",
          "text": [
            "Training loss: 0.3161342442035675\n",
            "Testing 10000 images...\n"
          ]
        },
        {
          "output_type": "stream",
          "name": "stderr",
          "text": [
            "100%|██████████| 10000/10000 [00:06<00:00, 1493.74it/s]\n"
          ]
        },
        {
          "output_type": "stream",
          "name": "stdout",
          "text": [
            "\n",
            "ACCURACY: 92.47%\n",
            "\n",
            "-------\n",
            "EPOCH 4\n",
            "-------\n",
            "Training using 1875 image batches...\n"
          ]
        },
        {
          "output_type": "stream",
          "name": "stderr",
          "text": [
            "100%|██████████| 1875/1875 [00:11<00:00, 166.57it/s]\n"
          ]
        },
        {
          "output_type": "stream",
          "name": "stdout",
          "text": [
            "Training loss: 0.22791559994220734\n",
            "Testing 10000 images...\n"
          ]
        },
        {
          "output_type": "stream",
          "name": "stderr",
          "text": [
            "100%|██████████| 10000/10000 [00:07<00:00, 1377.92it/s]\n"
          ]
        },
        {
          "output_type": "stream",
          "name": "stdout",
          "text": [
            "\n",
            "ACCURACY: 95.19%\n",
            "\n",
            "-------\n",
            "EPOCH 5\n",
            "-------\n",
            "Training using 1875 image batches...\n"
          ]
        },
        {
          "output_type": "stream",
          "name": "stderr",
          "text": [
            "100%|██████████| 1875/1875 [00:11<00:00, 165.75it/s]\n"
          ]
        },
        {
          "output_type": "stream",
          "name": "stdout",
          "text": [
            "Training loss: 0.1596992462873459\n",
            "Testing 10000 images...\n"
          ]
        },
        {
          "output_type": "stream",
          "name": "stderr",
          "text": [
            "100%|██████████| 10000/10000 [00:06<00:00, 1498.82it/s]\n"
          ]
        },
        {
          "output_type": "stream",
          "name": "stdout",
          "text": [
            "\n",
            "ACCURACY: 95.87%\n",
            "\n",
            "-------\n",
            "EPOCH 6\n",
            "-------\n",
            "Training using 1875 image batches...\n"
          ]
        },
        {
          "output_type": "stream",
          "name": "stderr",
          "text": [
            "100%|██████████| 1875/1875 [00:11<00:00, 166.98it/s]\n"
          ]
        },
        {
          "output_type": "stream",
          "name": "stdout",
          "text": [
            "Training loss: 0.12734679877758026\n",
            "Testing 10000 images...\n"
          ]
        },
        {
          "output_type": "stream",
          "name": "stderr",
          "text": [
            "100%|██████████| 10000/10000 [00:08<00:00, 1236.16it/s]\n"
          ]
        },
        {
          "output_type": "stream",
          "name": "stdout",
          "text": [
            "\n",
            "ACCURACY: 96.30%\n",
            "\n"
          ]
        },
        {
          "output_type": "display_data",
          "data": {
            "text/plain": [
              "<Figure size 900x900 with 9 Axes>"
            ],
            "image/png": "[encoded data removed]"
          },
          "metadata": {}
        }
      ],
      "source": [
        "import torch\n",
        "from torch import nn\n",
        "import torchvision\n",
        "from torchvision import datasets\n",
        "from torchvision import transforms\n",
        "from torch.utils.data import DataLoader\n",
        "import matplotlib.pyplot as plt\n",
        "from tqdm import tqdm\n",
        "import random\n",
        "\n",
        "device = \"cuda\" if torch.cuda.is_available() else \"cpu\"\n",
        "\n",
        "## Visualizing 9 random images ##\n",
        "def show_9_images():\n",
        "\n",
        "  test_samples = []\n",
        "  test_labels = []\n",
        "  for i in range(9):\n",
        "    n = random.randrange(500)\n",
        "    img, label = test_data[n]\n",
        "    test_samples.append(img)\n",
        "    test_labels.append(label)\n",
        "\n",
        "  plt.figure(figsize = (9,9))\n",
        "  nrows = 3\n",
        "  ncols = 3\n",
        "  for i, sample in enumerate(test_samples):\n",
        "    plt.subplot(nrows, ncols, i+1)\n",
        "    plt.imshow(sample.permute(1,2,0))\n",
        "\n",
        "    with torch.inference_mode():\n",
        "      sample = sample.unsqueeze(dim=0).to(device)\n",
        "      logit = NumberClassifier(sample)\n",
        "      pred_probs = torch.softmax(logit.squeeze(), dim=0)\n",
        "      y_pred = pred_probs.argmax()\n",
        "    y_true = test_labels[i]\n",
        "\n",
        "    title_text = f\"Prediction: {y_pred}\"\n",
        "\n",
        "    if y_pred == y_true:\n",
        "      plt.title(title_text, c=\"g\")\n",
        "    else:\n",
        "      plt.title(title_text, c=\"r\")\n",
        "    plt.axis(False)\n",
        "\n",
        "\n",
        "## Creating training and test datasets ##\n",
        "\n",
        "train_data = torchvision.datasets.MNIST(root = \"data\",\n",
        "                                        train = True,\n",
        "                                        transform = torchvision.transforms.ToTensor(),\n",
        "                                        download = True)\n",
        "\n",
        "test_data = torchvision.datasets.MNIST(root = \"data\",\n",
        "                                       train = False,\n",
        "                                       transform = torchvision.transforms.ToTensor(),\n",
        "                                       download = True)\n",
        "\n",
        "number_lst = train_data.classes\n",
        "\n",
        "## Creating MNISTModel ##\n",
        "\n",
        "class MNISTModel(nn.Module):\n",
        "  def __init__(self, input_shape, output_shape, hidden_units):\n",
        "    super().__init__()\n",
        "    self.block_1 = nn.Sequential(\n",
        "        nn.Conv2d(in_channels = input_shape,\n",
        "                  out_channels = hidden_units,\n",
        "                  kernel_size = 2,\n",
        "                  stride = 1,\n",
        "                  padding = 1),\n",
        "        nn.ReLU(),\n",
        "        nn.Conv2d(in_channels = hidden_units,\n",
        "                  out_channels = hidden_units,\n",
        "                  kernel_size = 2,\n",
        "                  stride = 1,\n",
        "                  padding = 1),\n",
        "        nn.ReLU(),\n",
        "        nn.MaxPool2d(2)\n",
        "    )\n",
        "    self.block_2 = nn.Sequential(\n",
        "        nn.Conv2d(in_channels = hidden_units,\n",
        "                  out_channels = hidden_units,\n",
        "                  kernel_size = 2,\n",
        "                  stride = 1,\n",
        "                  padding = 1),\n",
        "        nn.ReLU(),\n",
        "        nn.Conv2d(in_channels = hidden_units,\n",
        "                  out_channels = hidden_units,\n",
        "                  kernel_size = 2,\n",
        "                  stride = 1,\n",
        "                  padding = 1),\n",
        "        nn.ReLU(),\n",
        "        nn.MaxPool2d(2)\n",
        "    )\n",
        "    self.classifier = nn.Sequential(\n",
        "        nn.Flatten(),\n",
        "        nn.Linear(in_features = hidden_units*8*8,\n",
        "                  out_features = output_shape)\n",
        "    )\n",
        "\n",
        "  def forward(self, x):\n",
        "    x = self.block_1(x)\n",
        "    x = self.block_2(x)\n",
        "    x = self.classifier(x)\n",
        "    return x\n",
        "\n",
        "NumberClassifier = MNISTModel(input_shape = 1, output_shape = len(number_lst), hidden_units = 10).to(device)\n",
        "\n",
        "## Testing before training ##\n",
        "NumberClassifier.eval()\n",
        "y_trues = []\n",
        "y_preds = []\n",
        "with torch.inference_mode():\n",
        "  print(f\"Testing model before training...\")\n",
        "  for i in tqdm(range(len(test_data))):\n",
        "    img, label = test_data[i]\n",
        "    y_logit = NumberClassifier(img.unsqueeze(dim=0).to(device))\n",
        "    y_pred_probs = torch.softmax(y_logit.squeeze(), dim=0)\n",
        "    y_pred = y_pred_probs.argmax()\n",
        "    y_preds.append(y_pred)\n",
        "    y_trues.append(label)\n",
        "\n",
        "cnt = 0\n",
        "for i in range(len(y_trues)):\n",
        "  if y_trues[i] == y_preds[i]:\n",
        "    cnt += 1\n",
        "print(f\"\\nACCURACY: {cnt*100/len(y_trues):.2f}%\\n\")\n",
        "\n",
        "\n",
        "## Training Step ##\n",
        "\n",
        "train_dataloader = DataLoader(train_data, batch_size = 32, shuffle = True)\n",
        "test_dataloader = DataLoader(test_data, batch_size = 32, shuffle = False)\n",
        "\n",
        "loss_fn = nn.CrossEntropyLoss()\n",
        "optimizer = torch.optim.SGD(NumberClassifier.parameters(), lr = 0.005)\n",
        "\n",
        "epochs = 7\n",
        "\n",
        "for epoch in range(epochs):\n",
        "  NumberClassifier.train()\n",
        "  train_loss=0\n",
        "  print(f\"-------\\nEPOCH {epoch}\\n-------\")\n",
        "  print(f\"Training using {len(train_dataloader)} image batches...\")\n",
        "  for (X,y) in tqdm(train_dataloader):\n",
        "    X,y = X.to(device), y.to(device)\n",
        "    y_pred = NumberClassifier(X)\n",
        "    loss = loss_fn(y_pred, y)\n",
        "    optimizer.zero_grad()\n",
        "    loss.backward()\n",
        "    optimizer.step()\n",
        "    train_loss += loss\n",
        "  print(f\"Training loss: {train_loss/len(train_dataloader)}\")\n",
        "\n",
        "\n",
        "  NumberClassifier.eval()\n",
        "  y_trues = []\n",
        "  y_preds = []\n",
        "  with torch.inference_mode():\n",
        "    print(f\"Testing {len(test_data)} images...\")\n",
        "    for i in tqdm(range(len(test_data))):\n",
        "      img, label = test_data[i]\n",
        "      y_logit = NumberClassifier(img.unsqueeze(dim=0).to(device))\n",
        "      y_pred_probs = torch.softmax(y_logit.squeeze(), dim=0)\n",
        "      y_pred = y_pred_probs.argmax()\n",
        "      y_preds.append(y_pred)\n",
        "      y_trues.append(label)\n",
        "\n",
        "  cnt = 0\n",
        "  for i in range(len(y_trues)):\n",
        "    if y_trues[i] == y_preds[i]:\n",
        "      cnt += 1\n",
        "  print(f\"\\nACCURACY: {cnt*100/len(y_trues):.2f}%\\n\")\n",
        "\n",
        "show_9_images()"
      ]
    },
    {
      "cell_type": "code",
      "source": [],
      "metadata": {
        "id": "tn0o4YJYyLxd"
      },
      "execution_count": 30,
      "outputs": []
    }
  ]
}